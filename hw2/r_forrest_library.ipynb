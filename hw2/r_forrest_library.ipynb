{
  "nbformat": 4,
  "nbformat_minor": 0,
  "metadata": {
    "colab": {
      "name": "is_hw2_p2_partc.ipynb",
      "provenance": [],
      "collapsed_sections": []
    },
    "kernelspec": {
      "name": "python3",
      "display_name": "Python 3"
    },
    "language_info": {
      "name": "python"
    }
  },
  "cells": [
    {
      "cell_type": "code",
      "metadata": {
        "id": "j9txLd86R9gC"
      },
      "source": [
        "import numpy as np \n",
        "import pandas as pd\n",
        "import sklearn as sk\n",
        "from sklearn.model_selection import train_test_split\n",
        "from sklearn.ensemble import RandomForestClassifier\n",
        "from sklearn.preprocessing import LabelEncoder\n",
        "from sklearn.metrics import confusion_matrix, accuracy_score\n",
        "import seaborn as sns"
      ],
      "execution_count": 9,
      "outputs": []
    },
    {
      "cell_type": "code",
      "metadata": {
        "colab": {
          "base_uri": "https://localhost:8080/"
        },
        "id": "gWclaF4SSgHM",
        "outputId": "a9b72b33-cdb6-4847-80be-264197962a99"
      },
      "source": [
        "data = pd.read_csv('/content/drive/MyDrive/prison_dataset.csv')\n",
        "\n",
        "x = data.iloc[:,:10].apply(LabelEncoder().fit_transform)\n",
        "y = data.iloc[:,10]\n",
        "\n",
        "x_train, x_test, y_train, y_test = train_test_split(x, y, test_size=0.2, random_state=0)\n",
        "\n",
        "r_forest = RandomForestClassifier(n_estimators= 3, max_depth=3, criterion='entropy', random_state = 0)\n",
        "r_forest.fit(x_train, y_train)"
      ],
      "execution_count": 7,
      "outputs": [
        {
          "output_type": "execute_result",
          "data": {
            "text/plain": [
              "RandomForestClassifier(criterion='entropy', max_depth=3, n_estimators=3,\n",
              "                       random_state=0)"
            ]
          },
          "metadata": {},
          "execution_count": 7
        }
      ]
    },
    {
      "cell_type": "code",
      "metadata": {
        "colab": {
          "base_uri": "https://localhost:8080/",
          "height": 282
        },
        "id": "DT6g9ox_eMER",
        "outputId": "514861eb-92b3-4e61-fa69-78106cf7a167"
      },
      "source": [
        "y_pred = r_forest.predict(x_test)\n",
        "sns.heatmap(confusion_matrix(y_test, y_pred), annot= True, fmt='g', cbar= False)\n",
        "print(accuracy_score(y_test, y_pred))\n"
      ],
      "execution_count": 8,
      "outputs": [
        {
          "output_type": "stream",
          "name": "stdout",
          "text": [
            "0.706645056726094\n"
          ]
        },
        {
          "output_type": "display_data",
          "data": {
            "image/png": "[encoded data removed]",
            "text/plain": [
              "<Figure size 432x288 with 1 Axes>"
            ]
          },
          "metadata": {
            "needs_background": "light"
          }
        }
      ]
    }
  ]
}