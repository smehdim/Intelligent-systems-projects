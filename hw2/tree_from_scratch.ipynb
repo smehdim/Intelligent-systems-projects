{
  "nbformat": 4,
  "nbformat_minor": 0,
  "metadata": {
    "colab": {
      "name": "is_hw2_problem2_part_a_and_b.ipynb",
      "provenance": [],
      "collapsed_sections": []
    },
    "kernelspec": {
      "name": "python3",
      "display_name": "Python 3"
    },
    "language_info": {
      "name": "python"
    }
  },
  "cells": [
    {
      "cell_type": "code",
      "metadata": {
        "id": "gqpkEY0kyvQc"
      },
      "source": [
        "import numpy as np\n",
        "import pandas as pd\n",
        "import matplotlib.pyplot as plt\n",
        "from sklearn.model_selection import train_test_split\n",
        "from numpy import log2\n",
        "from sklearn.metrics import accuracy_score, confusion_matrix\n",
        "import seaborn as sns"
      ],
      "execution_count": 1,
      "outputs": []
    },
    {
      "cell_type": "code",
      "metadata": {
        "id": "SAU7tgmYgjwW"
      },
      "source": [
        "def cal_entropy(pos,neg):\n",
        "  s = pos + neg\n",
        "  if(pos*neg == 0):\n",
        "    return 0\n",
        "  neg_ent = -(pos/s)*(log2(pos/s))\n",
        "  pos_ent = - (neg/s)*(log2(neg/s)) \n",
        "  return    pos_ent + neg_ent"
      ],
      "execution_count": 2,
      "outputs": []
    },
    {
      "cell_type": "code",
      "metadata": {
        "id": "Ar7qX0b0Gyik"
      },
      "source": [
        "def find_ig_column(column, label):\n",
        "  classes_of_column = np.unique(column)\n",
        "  count_all = len(column)\n",
        "  ent_all = cal_entropy(sum(label==0),sum(label==1))\n",
        "  ent_subgroups = 0\n",
        "  for j in range(len(classes_of_column)):\n",
        "    bool_list = (column==classes_of_column[j])\n",
        "    label_subgroup = label[bool_list]\n",
        "    ent_subgroups += sum(bool_list)/count_all* cal_entropy(sum(label_subgroup==0), sum(label_subgroup==1))\n",
        "  return ent_all - ent_subgroups\n"
      ],
      "execution_count": 14,
      "outputs": []
    },
    {
      "cell_type": "code",
      "metadata": {
        "id": "3bqMYMEIzBkT"
      },
      "source": [
        "class node:\n",
        "  def __init__(self, split_feature = None, split_value = None, return_val = None, depth = 1, sub_nodes = [],  max_depth = 3, is_leaf = False):\n",
        "    self.max_depth = max_depth\n",
        "    self.split_feature = split_feature\n",
        "    self.split_value = split_value\n",
        "    self.return_val = return_val\n",
        "    self.depth_ = depth \n",
        "    self.sub_nodes = sub_nodes\n",
        "    self.is_leaf = is_leaf\n",
        "\n",
        "  def find_best_feature(self, in_data, target):\n",
        "    igs = []\n",
        "    for feature in in_data.columns:\n",
        "      igs.append(find_ig_column(in_data[feature],target))\n",
        "    igs = np.array(igs)\n",
        "    return igs.argmax()\n",
        "    \n",
        "\n",
        "  def fit(self, data, label):\n",
        "    if np.all(label == 1):\n",
        "      self.is_leaf = True\n",
        "      self.return_val =1\n",
        "\n",
        "    elif np.all(label == 0):\n",
        "      self.is_leaf = True\n",
        "      self.return_val = 0\n",
        "\n",
        "    elif len(data.columns) == 0:\n",
        "      self.is_leaf = True\n",
        "      self.return_val = np.argmax(np.bincount(label))\n",
        "\n",
        "    else:\n",
        "      best_feature = self.find_best_feature(data, label)\n",
        "      self.split_feature = data.columns[best_feature]\n",
        "      if(self.depth_ < self.max_depth):\n",
        "        best_feature_classes = np.unique(data.iloc[:,best_feature])\n",
        "        self.sub_nodes = [0] *len(best_feature_classes)\n",
        "        for i in range(len(best_feature_classes)):\n",
        "          bool_list = data.iloc[:,best_feature] == best_feature_classes[i]\n",
        "          self.sub_nodes[i] = node(depth = self.depth_ + 1, split_value = best_feature_classes[i], max_depth= self.max_depth)\n",
        "          self.sub_nodes[i].fit(data = data.drop(data.columns[best_feature], axis=1)[bool_list], label = label[bool_list])\n",
        "      else:\n",
        "        self.return_val = np.argmax(np.bincount(label))\n",
        "        self.is_leaf = True\n",
        "\n",
        "  \n",
        "  def predict_sample(self,sample):\n",
        "    curr_node = self\n",
        "    while(curr_node.is_leaf == False):\n",
        "      value = sample[curr_node.split_feature]\n",
        "      for i in range(len(curr_node.sub_nodes)):\n",
        "        if(curr_node.sub_nodes[i].split_value == value):\n",
        "          curr_node = curr_node.sub_nodes[i]\n",
        "          break\n",
        "    return curr_node.return_val\n",
        "\n",
        "\n",
        "  def predict(self, test_set):\n",
        "    out = np.zeros(len(test_set))\n",
        "    for i in range(len(test_set)):\n",
        "      out[i] = self.predict_sample(test_set.iloc[i,:])\n",
        "    return out"
      ],
      "execution_count": 4,
      "outputs": []
    },
    {
      "cell_type": "code",
      "metadata": {
        "id": "AHUYY49bGbfj",
        "colab": {
          "base_uri": "https://localhost:8080/",
          "height": 241
        },
        "outputId": "1ab87a6a-4656-4539-b6af-a61afca7daff"
      },
      "source": [
        "data_set = pd.read_csv('/content/drive/MyDrive/prison_dataset.csv')\n",
        "\n",
        "x = data_set.iloc[:,:10]\n",
        "y = data_set.iloc[:,10]\n",
        "x.drop(x.columns[1], axis=1, inplace= True)\n",
        "x_train, x_test, y_train, y_test = train_test_split(x, y, test_size=0.2, random_state=0)\n",
        "data_set.head()\n"
      ],
      "execution_count": 5,
      "outputs": [
        {
          "output_type": "execute_result",
          "data": {
            "text/html": [
              "<div>\n",
              "<style scoped>\n",
              "    .dataframe tbody tr th:only-of-type {\n",
              "        vertical-align: middle;\n",
              "    }\n",
              "\n",
              "    .dataframe tbody tr th {\n",
              "        vertical-align: top;\n",
              "    }\n",
              "\n",
              "    .dataframe thead th {\n",
              "        text-align: right;\n",
              "    }\n",
              "</style>\n",
              "<table border=\"1\" class=\"dataframe\">\n",
              "  <thead>\n",
              "    <tr style=\"text-align: right;\">\n",
              "      <th></th>\n",
              "      <th>Fiscal Year Released</th>\n",
              "      <th>Recidivism Reporting Year</th>\n",
              "      <th>Race - Ethnicity</th>\n",
              "      <th>Age At Release</th>\n",
              "      <th>Convicting Offense Classification</th>\n",
              "      <th>Convicting Offense Type</th>\n",
              "      <th>Convicting Offense Subtype</th>\n",
              "      <th>Main Supervising District</th>\n",
              "      <th>Release Type</th>\n",
              "      <th>Part of Target Population</th>\n",
              "      <th>Recidivism - Return to Prison numeric</th>\n",
              "    </tr>\n",
              "  </thead>\n",
              "  <tbody>\n",
              "    <tr>\n",
              "      <th>0</th>\n",
              "      <td>2010</td>\n",
              "      <td>2013</td>\n",
              "      <td>White</td>\n",
              "      <td>&lt;45</td>\n",
              "      <td>D Felony</td>\n",
              "      <td>Violent</td>\n",
              "      <td>Other</td>\n",
              "      <td>3JD</td>\n",
              "      <td>Parole</td>\n",
              "      <td>Yes</td>\n",
              "      <td>1</td>\n",
              "    </tr>\n",
              "    <tr>\n",
              "      <th>1</th>\n",
              "      <td>2010</td>\n",
              "      <td>2013</td>\n",
              "      <td>White</td>\n",
              "      <td>&gt;45</td>\n",
              "      <td>D Felony</td>\n",
              "      <td>Other</td>\n",
              "      <td>Other</td>\n",
              "      <td>3JD</td>\n",
              "      <td>Parole</td>\n",
              "      <td>Yes</td>\n",
              "      <td>1</td>\n",
              "    </tr>\n",
              "    <tr>\n",
              "      <th>2</th>\n",
              "      <td>2010</td>\n",
              "      <td>2013</td>\n",
              "      <td>White</td>\n",
              "      <td>&lt;45</td>\n",
              "      <td>D Felony</td>\n",
              "      <td>Other</td>\n",
              "      <td>Other</td>\n",
              "      <td>5JD</td>\n",
              "      <td>Parole</td>\n",
              "      <td>Yes</td>\n",
              "      <td>1</td>\n",
              "    </tr>\n",
              "    <tr>\n",
              "      <th>3</th>\n",
              "      <td>2010</td>\n",
              "      <td>2013</td>\n",
              "      <td>White</td>\n",
              "      <td>&gt;45</td>\n",
              "      <td>Other Felony</td>\n",
              "      <td>Drug</td>\n",
              "      <td>Trafficking</td>\n",
              "      <td>3JD</td>\n",
              "      <td>Parole</td>\n",
              "      <td>Yes</td>\n",
              "      <td>1</td>\n",
              "    </tr>\n",
              "    <tr>\n",
              "      <th>4</th>\n",
              "      <td>2010</td>\n",
              "      <td>2013</td>\n",
              "      <td>Black</td>\n",
              "      <td>&lt;45</td>\n",
              "      <td>D Felony</td>\n",
              "      <td>Drug</td>\n",
              "      <td>Trafficking</td>\n",
              "      <td>3JD</td>\n",
              "      <td>Parole</td>\n",
              "      <td>Yes</td>\n",
              "      <td>1</td>\n",
              "    </tr>\n",
              "  </tbody>\n",
              "</table>\n",
              "</div>"
            ],
            "text/plain": [
              "   Fiscal Year Released  ...  Recidivism - Return to Prison numeric\n",
              "0                  2010  ...                                      1\n",
              "1                  2010  ...                                      1\n",
              "2                  2010  ...                                      1\n",
              "3                  2010  ...                                      1\n",
              "4                  2010  ...                                      1\n",
              "\n",
              "[5 rows x 11 columns]"
            ]
          },
          "metadata": {},
          "execution_count": 5
        }
      ]
    },
    {
      "cell_type": "code",
      "metadata": {
        "colab": {
          "base_uri": "https://localhost:8080/",
          "height": 282
        },
        "id": "O7SZkhXS0jhE",
        "outputId": "9e0f30d0-4f6e-462d-d7ba-a0bb87430cb8"
      },
      "source": [
        "tree = node(max_depth = 1)\n",
        "tree.fit(x_train, y_train)\n",
        "y_pred = tree.predict(x_test)\n",
        "sns.heatmap(confusion_matrix(y_test, y_pred), annot= True, fmt='g')\n",
        "print('accuray = {}'.format(accuracy_score(y_test,y_pred)))"
      ],
      "execution_count": 7,
      "outputs": [
        {
          "output_type": "stream",
          "name": "stdout",
          "text": [
            "accuray = 0.5552674230145868\n"
          ]
        },
        {
          "output_type": "display_data",
          "data": {
            "image/png": "[encoded data removed]",
            "text/plain": [
              "<Figure size 432x288 with 2 Axes>"
            ]
          },
          "metadata": {
            "needs_background": "light"
          }
        }
      ]
    },
    {
      "cell_type": "code",
      "metadata": {
        "colab": {
          "base_uri": "https://localhost:8080/",
          "height": 282
        },
        "id": "hdLjzJWV10ed",
        "outputId": "cc727964-f034-4b96-8f4a-649cc5d8ddd9"
      },
      "source": [
        "tree = node(max_depth = 3)\n",
        "tree.fit(x_train, y_train)\n",
        "y_pred = tree.predict(x_test)\n",
        "sns.heatmap(confusion_matrix(y_test, y_pred), annot= True, fmt='g')\n",
        "print('accuray = {}'.format(accuracy_score(y_test,y_pred)))"
      ],
      "execution_count": 8,
      "outputs": [
        {
          "output_type": "stream",
          "name": "stdout",
          "text": [
            "accuray = 0.706645056726094\n"
          ]
        },
        {
          "output_type": "display_data",
          "data": {
            "image/png": "[encoded data removed]",
            "text/plain": [
              "<Figure size 432x288 with 2 Axes>"
            ]
          },
          "metadata": {
            "needs_background": "light"
          }
        }
      ]
    },
    {
      "cell_type": "code",
      "metadata": {
        "colab": {
          "base_uri": "https://localhost:8080/",
          "height": 282
        },
        "id": "XPe3KXALuryU",
        "outputId": "bb043f3e-e60b-438c-a9bc-e9c34a27e175"
      },
      "source": [
        "tree = node(max_depth = 7)\n",
        "tree.fit(x_train, y_train)\n",
        "y_pred = tree.predict(x_test)\n",
        "sns.heatmap(confusion_matrix(y_test, y_pred), annot= True, fmt='g')\n",
        "print('accuray = {}'.format(accuracy_score(y_test,y_pred)))"
      ],
      "execution_count": 6,
      "outputs": [
        {
          "output_type": "stream",
          "name": "stdout",
          "text": [
            "accuray = 0.7179902755267423\n"
          ]
        },
        {
          "output_type": "display_data",
          "data": {
            "image/png": "[encoded data removed]",
            "text/plain": [
              "<Figure size 432x288 with 2 Axes>"
            ]
          },
          "metadata": {
            "needs_background": "light"
          }
        }
      ]
    },
    {
      "cell_type": "code",
      "metadata": {
        "id": "3u7imPIQ3WPU"
      },
      "source": [
        "class random_forrest():\n",
        "  def __init__(self,n_tree = 3,max_depth = 3):\n",
        "    self.n_tree = n_tree\n",
        "    self.max_depth = max_depth\n",
        "    #trees list to be filled later\n",
        "    self.trees = [None]*n_tree\n",
        "\n",
        "  def boostrap(self, input_x, input_y):\n",
        "    boostrap_size = round(2*len(input_x)/3)\n",
        "    randomIndices = np.random.randint(low = 0, high = len(input_x), size = boostrap_size)\n",
        "    input_x = input_x.iloc[randomIndices, :] \n",
        "    input_y = input_y.iloc[randomIndices]\n",
        "    column_size = round(np.sqrt(len(input_x.columns)))\n",
        "    x_cols = input_x.columns[np.random.randint(low = 0, high = len(input_x.columns),size = column_size)]\n",
        "    input_x = input_x.drop(labels = x_cols,axis = )\n",
        "    return input_x, input_y\n",
        "  \n",
        "  def fit(self, train_set_x, train_set_y):\n",
        "    for i in range(self.n_tree):\n",
        "      print(i)\n",
        "      temp_x ,temp_y = self.boostrap(train_set_x, train_set_y)\n",
        "      self.trees[i] = node(max_depth=self.max_depth)\n",
        "      self.trees[i].fit(temp_x,temp_y)\n",
        "\n",
        "\n",
        "  def predict(self, test_x):\n",
        "    predictions = np.zeros((self.n_tree, len(test_x)))\n",
        "    for i in range(self.n_tree):\n",
        "      predictions[i] = self.trees[i].predict(test_x)\n",
        "    out = []\n",
        "    for i in range(len(predictions[0])):\n",
        "      sum = 0\n",
        "      for j in range(len(predictions)):\n",
        "        sum += predictions[j][i]\n",
        "      out.append(int(1 < sum*2/len(predictions)))\n",
        "\n",
        "    return out"
      ],
      "execution_count": 54,
      "outputs": []
    },
    {
      "cell_type": "code",
      "metadata": {
        "id": "oFfn4NKbEYLb"
      },
      "source": [
        "forrest = random_forrest(max_depth=3)\n",
        "forrest.fit(x_train, y_train)\n",
        "predictions_forrest = forrest.predict(x_test)"
      ],
      "execution_count": 69,
      "outputs": []
    },
    {
      "cell_type": "code",
      "metadata": {
        "colab": {
          "base_uri": "https://localhost:8080/",
          "height": 282
        },
        "id": "wBIPwCJXRogQ",
        "outputId": "6d9becff-c87e-4396-a1ae-be5fe05c93a9"
      },
      "source": [
        "sns.heatmap(confusion_matrix(y_test, predictions_forrest), annot= True, fmt='g',cbar=False)\n",
        "print('accuray = {}'.format(accuracy_score(y_test,predictions_forrest)))"
      ],
      "execution_count": 73,
      "outputs": [
        {
          "output_type": "stream",
          "name": "stdout",
          "text": [
            "accuray = 0.706645056726094\n"
          ]
        },
        {
          "output_type": "display_data",
          "data": {
            "image/png": "[encoded data removed]",
            "text/plain": [
              "<Figure size 432x288 with 1 Axes>"
            ]
          },
          "metadata": {
            "needs_background": "light"
          }
        }
      ]
    }
  ]
}