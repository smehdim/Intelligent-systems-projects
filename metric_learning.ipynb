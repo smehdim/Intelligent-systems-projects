{
  "nbformat": 4,
  "nbformat_minor": 0,
  "metadata": {
    "colab": {
      "name": "is_hw2_problem3.ipynb",
      "provenance": [],
      "collapsed_sections": []
    },
    "kernelspec": {
      "name": "python3",
      "display_name": "Python 3"
    },
    "language_info": {
      "name": "python"
    }
  },
  "cells": [
    {
      "cell_type": "code",
      "metadata": {
        "id": "XR4AhDhdce1h"
      },
      "source": [
        "import numpy as np\n",
        "import pandas as pd\n",
        "from numpy.linalg import norm\n",
        "from sklearn.model_selection import train_test_split\n",
        "from sklearn.metrics import classification_report, confusion_matrix, accuracy_score\n",
        "# !pip install metric_learn\n",
        "from metric_learn import LMNN,NCA\n",
        "import matplotlib.pyplot as plt\n",
        "import warnings\n",
        "warnings.filterwarnings('ignore') "
      ],
      "execution_count": 14,
      "outputs": []
    },
    {
      "cell_type": "code",
      "metadata": {
        "id": "TXRZPSINckhe",
        "colab": {
          "base_uri": "https://localhost:8080/",
          "height": 206
        },
        "outputId": "7f40bb4a-8343-4471-e697-02745a8d7bb3"
      },
      "source": [
        "data = pd.read_csv('/content/drive/MyDrive/wine.csv')\n",
        "data.head()"
      ],
      "execution_count": 3,
      "outputs": [
        {
          "output_type": "execute_result",
          "data": {
            "text/html": [
              "<div>\n",
              "<style scoped>\n",
              "    .dataframe tbody tr th:only-of-type {\n",
              "        vertical-align: middle;\n",
              "    }\n",
              "\n",
              "    .dataframe tbody tr th {\n",
              "        vertical-align: top;\n",
              "    }\n",
              "\n",
              "    .dataframe thead th {\n",
              "        text-align: right;\n",
              "    }\n",
              "</style>\n",
              "<table border=\"1\" class=\"dataframe\">\n",
              "  <thead>\n",
              "    <tr style=\"text-align: right;\">\n",
              "      <th></th>\n",
              "      <th>Class</th>\n",
              "      <th>1</th>\n",
              "      <th>2</th>\n",
              "      <th>3</th>\n",
              "      <th>4</th>\n",
              "      <th>5</th>\n",
              "      <th>6</th>\n",
              "      <th>7</th>\n",
              "      <th>8</th>\n",
              "      <th>9</th>\n",
              "      <th>10</th>\n",
              "      <th>11</th>\n",
              "      <th>12</th>\n",
              "      <th>13</th>\n",
              "    </tr>\n",
              "  </thead>\n",
              "  <tbody>\n",
              "    <tr>\n",
              "      <th>0</th>\n",
              "      <td>1</td>\n",
              "      <td>14.23</td>\n",
              "      <td>1.71</td>\n",
              "      <td>2.43</td>\n",
              "      <td>15.6</td>\n",
              "      <td>127</td>\n",
              "      <td>2.80</td>\n",
              "      <td>3.06</td>\n",
              "      <td>0.28</td>\n",
              "      <td>2.29</td>\n",
              "      <td>5.64</td>\n",
              "      <td>1.04</td>\n",
              "      <td>3.92</td>\n",
              "      <td>1065</td>\n",
              "    </tr>\n",
              "    <tr>\n",
              "      <th>1</th>\n",
              "      <td>1</td>\n",
              "      <td>13.20</td>\n",
              "      <td>1.78</td>\n",
              "      <td>2.14</td>\n",
              "      <td>11.2</td>\n",
              "      <td>100</td>\n",
              "      <td>2.65</td>\n",
              "      <td>2.76</td>\n",
              "      <td>0.26</td>\n",
              "      <td>1.28</td>\n",
              "      <td>4.38</td>\n",
              "      <td>1.05</td>\n",
              "      <td>3.40</td>\n",
              "      <td>1050</td>\n",
              "    </tr>\n",
              "    <tr>\n",
              "      <th>2</th>\n",
              "      <td>1</td>\n",
              "      <td>13.16</td>\n",
              "      <td>2.36</td>\n",
              "      <td>2.67</td>\n",
              "      <td>18.6</td>\n",
              "      <td>101</td>\n",
              "      <td>2.80</td>\n",
              "      <td>3.24</td>\n",
              "      <td>0.30</td>\n",
              "      <td>2.81</td>\n",
              "      <td>5.68</td>\n",
              "      <td>1.03</td>\n",
              "      <td>3.17</td>\n",
              "      <td>1185</td>\n",
              "    </tr>\n",
              "    <tr>\n",
              "      <th>3</th>\n",
              "      <td>1</td>\n",
              "      <td>14.37</td>\n",
              "      <td>1.95</td>\n",
              "      <td>2.50</td>\n",
              "      <td>16.8</td>\n",
              "      <td>113</td>\n",
              "      <td>3.85</td>\n",
              "      <td>3.49</td>\n",
              "      <td>0.24</td>\n",
              "      <td>2.18</td>\n",
              "      <td>7.80</td>\n",
              "      <td>0.86</td>\n",
              "      <td>3.45</td>\n",
              "      <td>1480</td>\n",
              "    </tr>\n",
              "    <tr>\n",
              "      <th>4</th>\n",
              "      <td>1</td>\n",
              "      <td>13.24</td>\n",
              "      <td>2.59</td>\n",
              "      <td>2.87</td>\n",
              "      <td>21.0</td>\n",
              "      <td>118</td>\n",
              "      <td>2.80</td>\n",
              "      <td>2.69</td>\n",
              "      <td>0.39</td>\n",
              "      <td>1.82</td>\n",
              "      <td>4.32</td>\n",
              "      <td>1.04</td>\n",
              "      <td>2.93</td>\n",
              "      <td>735</td>\n",
              "    </tr>\n",
              "  </tbody>\n",
              "</table>\n",
              "</div>"
            ],
            "text/plain": [
              "   Class      1     2     3     4    5  ...     8     9    10    11    12    13\n",
              "0      1  14.23  1.71  2.43  15.6  127  ...  0.28  2.29  5.64  1.04  3.92  1065\n",
              "1      1  13.20  1.78  2.14  11.2  100  ...  0.26  1.28  4.38  1.05  3.40  1050\n",
              "2      1  13.16  2.36  2.67  18.6  101  ...  0.30  2.81  5.68  1.03  3.17  1185\n",
              "3      1  14.37  1.95  2.50  16.8  113  ...  0.24  2.18  7.80  0.86  3.45  1480\n",
              "4      1  13.24  2.59  2.87  21.0  118  ...  0.39  1.82  4.32  1.04  2.93   735\n",
              "\n",
              "[5 rows x 14 columns]"
            ]
          },
          "metadata": {},
          "execution_count": 3
        }
      ]
    },
    {
      "cell_type": "code",
      "metadata": {
        "id": "f_Twe_FkdST3"
      },
      "source": [
        "class KNN:\n",
        "  def __init__(self, k = 5, metric = 'euclidean'):\n",
        "    self.k = k\n",
        "    self.metric = metric\n",
        "  \n",
        "  def fit(self, x_train, y_train):\n",
        "    self.x_train = np.array(x_train)\n",
        "    self.y_train = np.array(y_train)\n",
        "  \n",
        "  def predict(self, x_test):\n",
        "\n",
        "    assert (self.metric == 'euclidean' or self.metric == 'nca' or self.metric =='lmnn'), \"metric not implented\"\n",
        "    y_pred = np.zeros(len(x_test))\n",
        "\n",
        "    if(self.metric == 'lmnn'):\n",
        "      metric_cal = LMNN(k = self.k)\n",
        "      self.x_train =  metric_cal.fit_transform(self.x_train, self.y_train)\n",
        "    elif(self.metric == 'nca'):\n",
        "      metric_cal = NCA(max_iter = 400)\n",
        "      self.x_train =  metric_cal.fit_transform(self.x_train, self.y_train)\n",
        "\n",
        "    for i in range(len(x_test)):\n",
        "      similiarity_vec = np.zeros(len(self.x_train))\n",
        "      for j in range(len(self.x_train)):\n",
        "        similiarity_vec[j] = norm(x_test.iloc[i,:] - self.x_train[j,:])\n",
        "      idx = np.argpartition(similiarity_vec, self.k)\n",
        "      y_pred[i] = np.bincount(y_train.iloc[idx[:self.k]]).argmax()\n",
        "\n",
        "    return y_pred"
      ],
      "execution_count": 5,
      "outputs": []
    },
    {
      "cell_type": "code",
      "metadata": {
        "colab": {
          "base_uri": "https://localhost:8080/"
        },
        "id": "RxTU_nv9kC6k",
        "outputId": "12e1aeb4-bbcf-4bc5-905e-96254c2e890f"
      },
      "source": [
        "x_train, x_test, y_train, y_test = train_test_split(data.iloc[:,1:14], data.iloc[:,0], test_size=0.2, random_state = 0)\n",
        "model = KNN(metric= 'euclidean')\n",
        "model.fit(x_train,y_train)\n",
        "y_pred = model.predict(x_test)\n",
        "\n",
        "print(confusion_matrix(y_test,y_pred))\n",
        "print(classification_report(y_test,y_pred))\n",
        "print(accuracy_score(y_test, y_pred))"
      ],
      "execution_count": 6,
      "outputs": [
        {
          "output_type": "stream",
          "name": "stdout",
          "text": [
            "[[13  0  1]\n",
            " [ 0 14  2]\n",
            " [ 2  2  2]]\n",
            "              precision    recall  f1-score   support\n",
            "\n",
            "           1       0.87      0.93      0.90        14\n",
            "           2       0.88      0.88      0.88        16\n",
            "           3       0.40      0.33      0.36         6\n",
            "\n",
            "    accuracy                           0.81        36\n",
            "   macro avg       0.71      0.71      0.71        36\n",
            "weighted avg       0.79      0.81      0.80        36\n",
            "\n",
            "0.8055555555555556\n"
          ]
        }
      ]
    },
    {
      "cell_type": "code",
      "metadata": {
        "colab": {
          "base_uri": "https://localhost:8080/",
          "height": 295
        },
        "id": "zGBViGs9l9wb",
        "outputId": "1503e581-f22c-42a9-eaec-f6cd1a259c83"
      },
      "source": [
        "n_neighbors = [3, 5, 7, 9]\n",
        "accs = np.zeros(len(n_neighbors))\n",
        "for i,n in enumerate(n_neighbors):\n",
        "  model = KNN(k=n,metric = 'euclidean')\n",
        "  model.fit(x_train, y_train)\n",
        "  y_pred = model.predict(x_test)\n",
        "  accs[i] = accuracy_score(y_test, y_pred)\n",
        "\n",
        "for i in range(len(n_neighbors)):\n",
        "  plt.scatter(n_neighbors[i], accs[i])\n",
        "plt.title('metric : euclidean')\n",
        "plt.ylabel('accuracy')\n",
        "plt.xlabel('n')\n",
        "plt.show()"
      ],
      "execution_count": 7,
      "outputs": [
        {
          "output_type": "display_data",
          "data": {
            "image/png": "[encoded data removed]",
            "text/plain": [
              "<Figure size 432x288 with 1 Axes>"
            ]
          },
          "metadata": {
            "needs_background": "light"
          }
        }
      ]
    },
    {
      "cell_type": "code",
      "metadata": {
        "colab": {
          "base_uri": "https://localhost:8080/"
        },
        "id": "q8zoIHqBzPmc",
        "outputId": "24a9e1bc-d744-44ff-cd09-f61fa0f68935"
      },
      "source": [
        "x_train, x_test, y_train, y_test = train_test_split(data.iloc[:,1:14], data.iloc[:,0], test_size=0.2, random_state = 0)\n",
        "model = KNN(metric= 'lmnn')\n",
        "model.fit(x_train,y_train)\n",
        "y_pred = model.predict(x_test)\n",
        "\n",
        "print(confusion_matrix(y_test,y_pred))\n",
        "print(classification_report(y_test,y_pred))\n",
        "print(accuracy_score(y_test, y_pred))"
      ],
      "execution_count": 8,
      "outputs": [
        {
          "output_type": "stream",
          "name": "stdout",
          "text": [
            "[[13  1  0]\n",
            " [ 0 16  0]\n",
            " [ 0  2  4]]\n",
            "              precision    recall  f1-score   support\n",
            "\n",
            "           1       1.00      0.93      0.96        14\n",
            "           2       0.84      1.00      0.91        16\n",
            "           3       1.00      0.67      0.80         6\n",
            "\n",
            "    accuracy                           0.92        36\n",
            "   macro avg       0.95      0.87      0.89        36\n",
            "weighted avg       0.93      0.92      0.91        36\n",
            "\n",
            "0.9166666666666666\n"
          ]
        }
      ]
    },
    {
      "cell_type": "code",
      "metadata": {
        "colab": {
          "base_uri": "https://localhost:8080/",
          "height": 295
        },
        "id": "WBOjMyWkzmpY",
        "outputId": "d6ada00d-591a-4904-c017-c691812f80a5"
      },
      "source": [
        "n_neighbors = [3, 5, 7, 9]\n",
        "accs = np.zeros(len(n_neighbors))\n",
        "for i,n in enumerate(n_neighbors):\n",
        "  model = KNN(k=n,metric = 'lmnn')\n",
        "  model.fit(x_train, y_train)\n",
        "  y_pred = model.predict(x_test)\n",
        "  accs[i] = accuracy_score(y_test, y_pred)\n",
        "\n",
        "for i in range(len(n_neighbors)):\n",
        "  plt.scatter(n_neighbors[i], accs[i])\n",
        "plt.title('metric : LMNN')\n",
        "plt.ylabel('accuracy')\n",
        "plt.xlabel('n')\n",
        "plt.show()"
      ],
      "execution_count": 9,
      "outputs": [
        {
          "output_type": "display_data",
          "data": {
            "image/png": "[encoded data removed]",
            "text/plain": [
              "<Figure size 432x288 with 1 Axes>"
            ]
          },
          "metadata": {
            "needs_background": "light"
          }
        }
      ]
    },
    {
      "cell_type": "code",
      "metadata": {
        "colab": {
          "base_uri": "https://localhost:8080/"
        },
        "id": "DC5OEuLeBisa",
        "outputId": "b2a80a83-8b8a-4062-c037-811acebd3f32"
      },
      "source": [
        "x_train, x_test, y_train, y_test = train_test_split(data.iloc[:,1:14], data.iloc[:,0], test_size=0.2, random_state = 0)\n",
        "model = KNN(metric= 'nca')\n",
        "model.fit(x_train,y_train)\n",
        "y_pred = model.predict(x_test)\n",
        "\n",
        "print(confusion_matrix(y_test,y_pred))\n",
        "print(classification_report(y_test,y_pred))\n",
        "print(accuracy_score(y_test, y_pred))"
      ],
      "execution_count": 15,
      "outputs": [
        {
          "output_type": "stream",
          "name": "stdout",
          "text": [
            "[[13  1  0]\n",
            " [ 0 16  0]\n",
            " [ 0  6  0]]\n",
            "              precision    recall  f1-score   support\n",
            "\n",
            "           1       1.00      0.93      0.96        14\n",
            "           2       0.70      1.00      0.82        16\n",
            "           3       0.00      0.00      0.00         6\n",
            "\n",
            "    accuracy                           0.81        36\n",
            "   macro avg       0.57      0.64      0.59        36\n",
            "weighted avg       0.70      0.81      0.74        36\n",
            "\n",
            "0.8055555555555556\n"
          ]
        }
      ]
    },
    {
      "cell_type": "code",
      "metadata": {
        "id": "F7TqPypRBjNt",
        "colab": {
          "base_uri": "https://localhost:8080/",
          "height": 295
        },
        "outputId": "1f37842f-602e-4c37-8839-8d85873663b1"
      },
      "source": [
        "n_neighbors = [3, 5, 7, 9]\n",
        "accs = np.zeros(len(n_neighbors))\n",
        "for i,n in enumerate(n_neighbors):\n",
        "  model = KNN(k=n,metric = 'nca')\n",
        "  model.fit(x_train, y_train)\n",
        "  y_pred = model.predict(x_test)\n",
        "  accs[i] = accuracy_score(y_test, y_pred)\n",
        "\n",
        "for i in range(len(n_neighbors)):\n",
        "  plt.scatter(n_neighbors[i], accs[i])\n",
        "plt.title('metric : NCA')\n",
        "plt.ylabel('accuracy')\n",
        "plt.xlabel('n')\n",
        "plt.show()"
      ],
      "execution_count": 16,
      "outputs": [
        {
          "output_type": "display_data",
          "data": {
            "image/png": "[encoded data removed]",
            "text/plain": [
              "<Figure size 432x288 with 1 Axes>"
            ]
          },
          "metadata": {
            "needs_background": "light"
          }
        }
      ]
    }
  ]
}