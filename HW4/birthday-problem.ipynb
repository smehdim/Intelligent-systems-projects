{
  "nbformat": 4,
  "nbformat_minor": 0,
  "metadata": {
    "colab": {
      "name": "is_hw4_p4_a.ipynb",
      "provenance": [],
      "collapsed_sections": []
    },
    "kernelspec": {
      "name": "python3",
      "display_name": "Python 3"
    },
    "language_info": {
      "name": "python"
    }
  },
  "cells": [
    {
      "cell_type": "code",
      "execution_count": null,
      "metadata": {
        "id": "4Cg-3kueR0vF"
      },
      "outputs": [],
      "source": [
        "import numpy as np\n",
        "from collections import Counter\n",
        "import matplotlib.pyplot as plt"
      ]
    },
    {
      "cell_type": "code",
      "source": [
        "def birthday_on_n(n):\n",
        "  is_there_same_bd = []\n",
        "  for i in range(10000):\n",
        "    birthdays = np.random.randint(1,355,n)\n",
        "    repeated_days = (Counter(birthdays) - Counter(set(birthdays))).keys()\n",
        "    if(len(repeated_days) !=0):\n",
        "      is_there_same_bd.append(1)\n",
        "    else:\n",
        "      is_there_same_bd.append(0)\n",
        "  return np.sum(is_there_same_bd)/len(is_there_same_bd)"
      ],
      "metadata": {
        "id": "6Pt5DedxR88f"
      },
      "execution_count": null,
      "outputs": []
    },
    {
      "cell_type": "code",
      "source": [
        "def birthday_problem():\n",
        "  prob_n = []\n",
        "  for i in range(100):\n",
        "    prob_n.append(birthday_on_n(i))\n",
        "  return prob_n "
      ],
      "metadata": {
        "id": "tS9jk0fSUmeJ"
      },
      "execution_count": null,
      "outputs": []
    },
    {
      "cell_type": "code",
      "source": [
        "probs = birthday_problem()"
      ],
      "metadata": {
        "id": "qqt8g-zQV9El"
      },
      "execution_count": null,
      "outputs": []
    },
    {
      "cell_type": "code",
      "source": [
        "plt.plot(probs)\n",
        "plt.grid()\n",
        "plt.ylabel('probabilty')\n",
        "plt.xlabel('number of people')\n",
        "plt.show()"
      ],
      "metadata": {
        "colab": {
          "base_uri": "https://localhost:8080/",
          "height": 279
        },
        "id": "S3rHdiHSXOlC",
        "outputId": "f3b76ec0-311a-4237-e979-88a673eade5e"
      },
      "execution_count": null,
      "outputs": [
        {
          "output_type": "display_data",
          "data": {
            "image/png": "[encoded data removed]",
            "text/plain": [
              "<Figure size 432x288 with 1 Axes>"
            ]
          },
          "metadata": {
            "needs_background": "light"
          }
        }
      ]
    }
  ]
}