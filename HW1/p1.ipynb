{
  "nbformat": 4,
  "nbformat_minor": 0,
  "metadata": {
    "colab": {
      "name": "is_hw1_p1.ipynb",
      "provenance": [],
      "collapsed_sections": []
    },
    "kernelspec": {
      "name": "python3",
      "display_name": "Python 3"
    },
    "language_info": {
      "name": "python"
    }
  },
  "cells": [
    {
      "cell_type": "code",
      "metadata": {
        "id": "tjWFv3WDdDdr"
      },
      "source": [
        "import numpy as np"
      ],
      "execution_count": null,
      "outputs": []
    },
    {
      "cell_type": "code",
      "metadata": {
        "id": "BJiiaJ6adJiB"
      },
      "source": [
        "def f(point):\n",
        "  x,y = point[0], point[1]\n",
        "  return(3*x**2 + 12*x + 8*y**2 + 8*y + 6*x*y)\n",
        "def grad(point):\n",
        "  x ,y  = point[0],point[1]\n",
        "  return np.array((6*(x+y) +12, 16*y + 8 + 6*x))\n",
        "def norm_grad(point):\n",
        "  return np.sum(np.square(grad(point)))\n"
      ],
      "execution_count": null,
      "outputs": []
    },
    {
      "cell_type": "code",
      "metadata": {
        "colab": {
          "base_uri": "https://localhost:8080/"
        },
        "id": "tyez13nGAvTF",
        "outputId": "40ed7aff-e02e-4b1f-a534-fe4c51a7e4d8"
      },
      "source": [
        "def find_alpha(point):\n",
        "  alpha = 1\n",
        "  beta = 0.9\n",
        "  \n",
        "  grad_x = np.array(grad(point))\n",
        "  while(f(point - alpha*grad(point)) > f(point) - 0.5*alpha*norm_grad(point)):\n",
        "    alpha = beta * alpha\n",
        "  return alpha\n",
        "\n",
        "def minimize(starting_point):\n",
        "  point = starting_point\n",
        "  for i in range(10):\n",
        "    alpha = find_alpha(point)\n",
        "    point = point - alpha*grad(point)\n",
        "  return point\n",
        "minimize([1,1])"
      ],
      "execution_count": null,
      "outputs": [
        {
          "output_type": "execute_result",
          "data": {
            "text/plain": [
              "array([-2.3995445 ,  0.39998016])"
            ]
          },
          "metadata": {},
          "execution_count": 28
        }
      ]
    }
  ]
}