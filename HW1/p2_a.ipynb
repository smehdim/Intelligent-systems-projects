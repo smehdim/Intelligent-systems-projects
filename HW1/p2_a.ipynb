{
  "cells": [
    {
      "cell_type": "code",
      "execution_count": null,
      "metadata": {
        "id": "o0Q-CZdCXTtV"
      },
      "outputs": [],
      "source": [
        "from math import cos , sin , pi\n",
        "import numpy as np\n",
        "import matplotlib.pyplot as plt\n"
      ]
    },
    {
      "cell_type": "code",
      "execution_count": null,
      "metadata": {
        "id": "NgLZUsQmYaDm"
      },
      "outputs": [],
      "source": [
        "def func(x , y):\n",
        "  return x**2 - 10* y* cos(0.2* pi * x) + y**2 - 15* x* cos(0.4* pi *y)\n",
        "\n",
        "def gradient(x,y):\n",
        "  grad_x = 2*x + 2*pi* y* sin(0.2* pi* x) - 15* cos(0.4* pi* y)\n",
        "  grad_y = -10* cos(0.2* pi *x) + 2* y + 6*pi * x* sin(0.4* pi* y)\n",
        "  return grad_x, grad_y"
      ]
    },
    {
      "cell_type": "code",
      "execution_count": null,
      "metadata": {
        "colab": {
          "base_uri": "https://localhost:8080/",
          "height": 296
        },
        "id": "3qkkq3fYX9MS",
        "outputId": "2e17a616-313c-48db-c63e-a94bf412dc7d"
      },
      "outputs": [
        {
          "data": {
            "image/png": "[encoded data removed]",
            "text/plain": [
              "<Figure size 432x288 with 1 Axes>"
            ]
          },
          "metadata": {
            "needs_background": "light"
          },
          "output_type": "display_data"
        },
        {
          "data": {
            "text/plain": [
              "(9.769248666650254, 4.9995504813346034)"
            ]
          },
          "execution_count": 13,
          "metadata": {},
          "output_type": "execute_result"
        }
      ],
      "source": [
        "x = np.zeros(2)\n",
        "y = np.zeros(2)\n",
        "def find_min(x, y, iters = 150, step_size = 0.008):\n",
        "  vals = np.zeros((iters,1))\n",
        "  for i in range(iters):\n",
        "    vals[i] = func(x,y)\n",
        "    del_x ,del_y = gradient(x, y)\n",
        "    x = x - step_size * del_x\n",
        "    y = y - step_size * del_y\n",
        "    if(abs(x) > 15):\n",
        "      x = x * 15/abs(x)\n",
        "    if(abs(y) > 15):\n",
        "      y = y * 15/abs(y)\n",
        "  return vals , x, y\n",
        "errors1, x[0], y[0] = find_min(5,5)\n",
        "errors2, x[1], y[1] = find_min(0,0)\n",
        "q = range(150)\n",
        "plt.plot(q, errors1,label = 'x = 5, y = 5')\n",
        "plt.plot(q,errors2, label = 'x = 0 ,y = 0')\n",
        "plt.xlabel('iteration')\n",
        "plt.ylabel('cost')\n",
        "plt.legend()\n",
        "plt.show()\n",
        "x[0], y[0]\n"
      ]
    }
  ],
  "metadata": {
    "colab": {
      "collapsed_sections": [],
      "name": "is_problem2_part_a.ipynb",
      "provenance": []
    },
    "kernelspec": {
      "display_name": "Python 3",
      "name": "python3"
    },
    "language_info": {
      "name": "python"
    }
  },
  "nbformat": 4,
  "nbformat_minor": 0
}
