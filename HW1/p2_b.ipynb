{
  "nbformat": 4,
  "nbformat_minor": 0,
  "metadata": {
    "colab": {
      "name": "is_hw1_problem2_b.ipynb",
      "provenance": [],
      "collapsed_sections": []
    },
    "kernelspec": {
      "name": "python3",
      "display_name": "Python 3"
    },
    "language_info": {
      "name": "python"
    }
  },
  "cells": [
    {
      "cell_type": "code",
      "metadata": {
        "id": "jHCHUmLxO4ZJ"
      },
      "source": [
        "from math import cos , sin , pi\n",
        "import numpy as np\n",
        "import matplotlib.pyplot as plt"
      ],
      "execution_count": null,
      "outputs": []
    },
    {
      "cell_type": "code",
      "metadata": {
        "id": "xFYjyKsEPJL9"
      },
      "source": [
        "def f(point):\n",
        "  x, y =point[0], point[1]\n",
        "  return x**2 - 10* y* cos(0.2* pi * x) + y**2 - 15* x* cos(0.4* pi *y)\n",
        "\n",
        "def gradient(point):\n",
        "  x, y = point[0], point[1]\n",
        "  grad_x = 2*x + 2*pi* y* sin(0.2* pi* x) - 15* cos(0.4* pi* y)\n",
        "  grad_y = -10* cos(0.2* pi *x) + 2* y + 6*pi * x* sin(0.4* pi* y)\n",
        "  return np.array([grad_x, grad_y])\n",
        "\n",
        "def norm_grad(point):\n",
        "  return np.sum(np.square(gradient(point)))\n",
        "\n",
        "def hessian(point):\n",
        "  x, y = point[0], point[1]\n",
        "  H = np.zeros((2,2))\n",
        "  H[0,0] = 2 + 0.4 * pi**2 * cos(0.2*pi*x) * y\n",
        "  H[0,1] = 2 * pi * sin(0.2*pi*x) + 15* 0.4 * pi * sin(0.4*pi*y)\n",
        "  H[1,0] = 2 * pi * sin(0.2 * pi * x) + 15 * 0.4 * pi * sin(0.4 * pi * y)\n",
        "  H[1,1] = 2 + 15 * 0.4**2 * pi ** 2 * x * cos(0.4 * pi * y)\n",
        "  return H\n",
        "\n",
        "def find_alpha_armijo(point, prev_fk):\n",
        "  if(prev_fk == None):\n",
        "    alpha = 1\n",
        "  else:\n",
        "    alpha = -2*(f(point) - prev_fk)/norm_grad(point)\n",
        "  beta = 0.9\n",
        "  c = 0.5\n",
        "  grad_x = np.array(gradient(point))\n",
        "  while(f(point - alpha*gradient(point)) > f(point) - c*alpha*norm_grad(point)):\n",
        "    alpha = beta * alpha\n",
        "  return alpha\n",
        "\n",
        "def find_alpha_exact(point):\n",
        "  return norm_grad(point)/np.dot(np.dot(hessian(point),gradient(point)),gradient(point))"
      ],
      "execution_count": null,
      "outputs": []
    },
    {
      "cell_type": "code",
      "metadata": {
        "colab": {
          "base_uri": "https://localhost:8080/"
        },
        "id": "fswi6bKfPRvj",
        "outputId": "80bf79a3-3970-4708-8f19-4a0682bf8360"
      },
      "source": [
        "def find_alpha(point,update_rule, prev_fk):\n",
        "  if(update_rule == 'armijo'):\n",
        "    alpha = find_alpha_armijo(point, prev_fk)\n",
        "  elif(update_rule == 'exact'):\n",
        "    alpha = find_alpha_exact(point)\n",
        "  return alpha\n",
        "find_alpha([1, 1],'exact',None)"
      ],
      "execution_count": null,
      "outputs": [
        {
          "output_type": "execute_result",
          "data": {
            "text/plain": [
              "0.07621394934637626"
            ]
          },
          "metadata": {},
          "execution_count": 32
        }
      ]
    },
    {
      "cell_type": "code",
      "metadata": {
        "id": "LtiTQIdEhHUm"
      },
      "source": [
        "def minimize(start_point, rule = 'armijo', epochs = 15, debug = True):\n",
        "  cost_vals = [f(start_point)]\n",
        "  points = [start_point]\n",
        "  for i in range(epochs):\n",
        "    if(i == 0):\n",
        "      new_point = points[-1] - find_alpha(points[-1],rule,None)*gradient(points[-1])\n",
        "    else:\n",
        "      new_point = points[-1] - find_alpha(points[i],rule,f(points[i-1]))*gradient(points[-1])\n",
        "    cost_vals.append(f(new_point))\n",
        "    points.append(new_point)\n",
        "    if(debug):\n",
        "      print(\"epoch ={}, cost = {}, point = {}\".format(i+1,cost_vals[-1],points[-1]))\n",
        "  if(debug):\n",
        "    print('minimum cost = {}'.format(f(points[-1])))  \n",
        "  return points[-1]\n",
        "\n"
      ],
      "execution_count": null,
      "outputs": []
    },
    {
      "cell_type": "code",
      "metadata": {
        "colab": {
          "base_uri": "https://localhost:8080/"
        },
        "id": "t6g2C2OKtvgA",
        "outputId": "70d61654-cb20-4781-e2c9-dc5d8458e832"
      },
      "source": [
        "print(\"**********armijo**********\")\n",
        "f(minimize([0,0],rule = 'armijo',debug = True))\n",
        "print()\n",
        "f(minimize([10,7],rule = 'armijo'))\n",
        "print()\n",
        "print(\"**********exact**********\")\n",
        "f(minimize([0,0],rule = 'exact'))\n",
        "print()\n",
        "f(minimize([5,5],rule = 'exact'))\n"
      ],
      "execution_count": null,
      "outputs": [
        {
          "output_type": "stream",
          "name": "stdout",
          "text": [
            "**********armijo**********\n",
            "epoch =1, cost = -13.420014135710563, point = [1.19649665 0.79766443]\n",
            "epoch =2, cost = -18.525067971878716, point = [1.31268896 0.11362085]\n",
            "epoch =3, cost = -25.41612003113793, point = [2.13033452 0.32604015]\n",
            "epoch =4, cost = -29.388883167104964, point = [ 2.34001933 -0.07482126]\n",
            "epoch =5, cost = -33.166413453038004, point = [2.87624575 0.18996651]\n",
            "epoch =6, cost = -36.12232800706694, point = [ 3.01678903 -0.09512492]\n",
            "epoch =7, cost = -39.31699240143513, point = [3.55704092 0.12160245]\n",
            "epoch =8, cost = -41.67103185728442, point = [ 3.65845229 -0.11537008]\n",
            "epoch =9, cost = -43.72683099102743, point = [4.05483225 0.05860363]\n",
            "epoch =10, cost = -45.26583402503393, point = [ 4.13748038 -0.11591564]\n",
            "epoch =11, cost = -46.776523867429376, point = [4.47427171 0.02889838]\n",
            "epoch =12, cost = -47.883858474651646, point = [ 4.54218608 -0.11389885]\n",
            "epoch =13, cost = -48.858129240080636, point = [4.78697735e+00 3.10990048e-03]\n",
            "epoch =14, cost = -49.59840616774453, point = [ 4.84409588 -0.10504769]\n",
            "epoch =15, cost = -50.42088701885808, point = [ 5.08160201e+00 -1.98018115e-03]\n",
            "minimum cost = -50.42088701885808\n",
            "\n",
            "epoch =1, cost = 2.6283259283874756, point = [9.1956046 4.1265049]\n",
            "epoch =2, cost = -72.13704688700307, point = [9.20134386 5.01725974]\n",
            "epoch =3, cost = -73.67586128743079, point = [9.41932862 4.92402311]\n",
            "epoch =4, cost = -74.51837409716701, point = [9.45572832 5.00782337]\n",
            "epoch =5, cost = -75.06434696448417, point = [9.58894079 4.96073592]\n",
            "epoch =6, cost = -75.2922978991232, point = [9.60679744 5.00181614]\n",
            "epoch =7, cost = -75.49860369153788, point = [9.72009675 4.97830285]\n",
            "epoch =8, cost = -75.55430725240885, point = [9.72442101 4.99886745]\n",
            "epoch =9, cost = -75.57376436413188, point = [9.76422568 5.00356582]\n",
            "epoch =10, cost = -75.5757127645027, point = [9.764702   4.99955155]\n",
            "epoch =11, cost = -75.57593034693676, point = [9.76904941 4.99935318]\n",
            "epoch =12, cost = -75.57593492000274, point = [9.7690665  4.99954402]\n",
            "epoch =13, cost = -75.57593511815855, point = [9.76915511 4.99957437]\n",
            "epoch =14, cost = -75.5759352044435, point = [9.76916471 4.99954769]\n",
            "epoch =15, cost = -75.57593524850746, point = [9.76920622 4.99956092]\n",
            "minimum cost = -75.57593524850746\n",
            "\n",
            "**********exact**********\n",
            "epoch =1, cost = -31.25, point = [7.5 5. ]\n",
            "epoch =2, cost = -47.79294493536031, point = [8.9295557  4.54495829]\n",
            "epoch =3, cost = -68.91267860218673, point = [9.00213147 5.06456007]\n",
            "epoch =4, cost = -70.94420010231377, point = [9.13274494 4.93255623]\n",
            "epoch =5, cost = -72.36413653027846, point = [9.2415093 5.0457058]\n",
            "epoch =6, cost = -73.35681901651539, point = [9.33089984 4.9549404 ]\n",
            "epoch =7, cost = -74.04320135395926, point = [9.40649021 5.03181018]\n",
            "epoch =8, cost = -74.51909322143608, point = [9.46755881 4.96960567]\n",
            "epoch =9, cost = -74.84695535788828, point = [9.5197762  5.02194452]\n",
            "epoch =10, cost = -75.07350288600965, point = [9.56154282 4.9793033 ]\n",
            "epoch =11, cost = -75.22946187215177, point = [9.59754278 5.01504914]\n",
            "epoch =12, cost = -75.33709551195882, point = [9.62616321 4.98578058]\n",
            "epoch =13, cost = -75.41121157411374, point = [9.65097329 5.01026261]\n",
            "epoch =14, cost = -75.4623461128121, point = [9.67062215 4.99014462]\n",
            "epoch =15, cost = -75.49757620023867, point = [9.68772395 5.00694999]\n",
            "minimum cost = -75.49757620023867\n",
            "\n",
            "epoch =1, cost = 23.11739665946851, point = [5.04452069 4.82191725]\n",
            "epoch =2, cost = 24.63351648429078, point = [4.50210604 4.67463702]\n",
            "epoch =3, cost = 23.376780911871336, point = [4.45656584 4.83290796]\n",
            "epoch =4, cost = 28.00738295407713, point = [5.76776499 5.30233801]\n",
            "epoch =5, cost = 12.420778049777738, point = [5.92333455 4.78131358]\n",
            "epoch =6, cost = 4.686905081247815, point = [6.74789948 5.31660074]\n",
            "epoch =7, cost = -14.33669074680914, point = [6.99855004 4.77936896]\n",
            "epoch =8, cost = -25.867623035004954, point = [7.57055272 5.24221229]\n",
            "epoch =9, cost = -39.818182215356856, point = [7.82156838 4.82893872]\n",
            "epoch =10, cost = -49.101465806092335, point = [8.24470837 5.17936987]\n",
            "epoch =11, cost = -57.427923625643515, point = [8.4422599  4.88436455]\n",
            "epoch =12, cost = -62.87049879593161, point = [8.74040142 5.12434855]\n",
            "epoch =13, cost = -67.05356350209667, point = [8.87977948 4.92561168]\n",
            "epoch =14, cost = -69.7737260376683, point = [9.08306424 5.08390444]\n",
            "epoch =15, cost = -71.71485393322415, point = [9.17699883 4.95248147]\n",
            "minimum cost = -71.71485393322415\n"
          ]
        },
        {
          "output_type": "execute_result",
          "data": {
            "text/plain": [
              "-71.71485393322415"
            ]
          },
          "metadata": {},
          "execution_count": 35
        }
      ]
    }
  ]
}