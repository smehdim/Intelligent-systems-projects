{
  "nbformat": 4,
  "nbformat_minor": 0,
  "metadata": {
    "colab": {
      "name": "is_hw5_p1.ipynb",
      "provenance": [],
      "collapsed_sections": []
    },
    "kernelspec": {
      "name": "python3",
      "display_name": "Python 3"
    },
    "language_info": {
      "name": "python"
    }
  },
  "cells": [
    {
      "cell_type": "code",
      "execution_count": null,
      "metadata": {
        "id": "iXru-AVrKT3w"
      },
      "outputs": [],
      "source": [
        "import numpy as np\n",
        "import pandas as pd\n",
        "import matplotlib.pyplot as plt\n",
        "import seaborn as sns\n",
        "from sklearn.model_selection import train_test_split\n",
        "from sklearn.preprocessing import LabelEncoder,OrdinalEncoder\n",
        "from sklearn.metrics import accuracy_score\n",
        "from sklearn.metrics import confusion_matrix"
      ]
    },
    {
      "cell_type": "code",
      "source": [
        "data_train = pd.read_csv('/content/drive/MyDrive/datasets/is/Mushroom_Train.csv')\n",
        "le = LabelEncoder()\n",
        "ord_encoder = OrdinalEncoder(handle_unknown='use_encoded_value', unknown_value=-1)\n",
        "x_train = ord_encoder.fit_transform(data_train.iloc[:,1:].to_numpy())\n",
        "y_train = le.fit_transform(data_train.iloc[:,0].to_numpy())"
      ],
      "metadata": {
        "id": "fwvPGs4eK9_8"
      },
      "execution_count": null,
      "outputs": []
    },
    {
      "cell_type": "code",
      "source": [
        "class Naive_bayes:\n",
        "    def fit(self, x, y):\n",
        "        self.x_train = x\n",
        "        self.y_train = y\n",
        "        self.classes = np.unique(y)\n",
        "        self.priors = np.zeros(len(self.classes))\n",
        "        count_samples, self.count_features = self.x_train.shape\n",
        "        for i,label in enumerate(self.classes):\n",
        "          class_examples = np.sum(self.y_train == label)\n",
        "          self.priors[i] =  (class_examples+1) / (count_samples+len(self.classes))\n",
        "\n",
        "    def conditional_prob(self, label, target_col, target_val):\n",
        "      x_c = self.x_train[self.y_train==label] \n",
        "      return (np.sum(x_c[:, target_col] == target_val)+1) / (len(x_c)+len(self.classes))\n",
        "    \n",
        "    def predict_(self, X_test):\n",
        "      probs_post = []\n",
        "      for label in self.classes:\n",
        "        likelihood = np.log(self.priors[label])\n",
        "        for feature in range(self.count_features):\n",
        "          condition_prob = np.log(self.conditional_prob(label, feature, X_test[feature]))\n",
        "          likelihood += condition_prob\n",
        "        probs_post.append(likelihood)\n",
        "      return np.argmax(probs_post) \n",
        "    \n",
        "    def predict(self, x_test):\n",
        "        y_prediction = []\n",
        "        for data in x_test:\n",
        "            y_prediction.append(self.predict_(data))\n",
        "        return np.array(y_prediction)\n"
      ],
      "metadata": {
        "id": "fHIwvWJD56v_"
      },
      "execution_count": null,
      "outputs": []
    },
    {
      "cell_type": "code",
      "source": [
        "classifier = Naive_bayes()\n",
        "classifier.fit(x_train,y_train)\n",
        "pred = classifier.predict(x_train)"
      ],
      "metadata": {
        "id": "KeaYVVan59Eq"
      },
      "execution_count": null,
      "outputs": []
    },
    {
      "cell_type": "code",
      "source": [
        "print(f'accuracy on train set  =  {accuracy_score(pred,y_train)} \\n')\n",
        "sns.heatmap(confusion_matrix(y_train, pred), annot= True, fmt='g', cbar=False)\n",
        "plt.title('confusion matrix on train set')\n",
        "plt.show()"
      ],
      "metadata": {
        "colab": {
          "base_uri": "https://localhost:8080/",
          "height": 316
        },
        "id": "inxTpFtm6wA-",
        "outputId": "4b0029c0-7846-4bae-8b47-89f7a9e5f341"
      },
      "execution_count": null,
      "outputs": [
        {
          "output_type": "stream",
          "name": "stdout",
          "text": [
            "accuracy on train set  =  0.9544736842105264 \n",
            "\n"
          ]
        },
        {
          "output_type": "display_data",
          "data": {
            "image/png": "[encoded data removed]",
            "text/plain": [
              "<Figure size 432x288 with 1 Axes>"
            ]
          },
          "metadata": {
            "needs_background": "light"
          }
        }
      ]
    },
    {
      "cell_type": "code",
      "source": [
        "data_test = pd.read_csv('/content/drive/MyDrive/datasets/is/Mushroom_Test.csv')\n",
        "x_test = ord_encoder.transform(data_test.iloc[:,1:].to_numpy())\n",
        "y_test = le.transform(data_test.iloc[:,0].to_numpy())"
      ],
      "metadata": {
        "id": "Tq-DA213P2ru"
      },
      "execution_count": null,
      "outputs": []
    },
    {
      "cell_type": "code",
      "source": [
        "y_pred = classifier.predict(x_test)\n",
        "print(f'accuracy on test set  =  {accuracy_score(y_pred,y_test)} \\n')\n",
        "sns.heatmap(confusion_matrix(y_test, y_pred), annot= True, fmt='g', cbar=False)\n",
        "plt.title('confusion matrix on test set')\n",
        "plt.show()"
      ],
      "metadata": {
        "colab": {
          "base_uri": "https://localhost:8080/",
          "height": 316
        },
        "id": "ouoBJ1KXjdtp",
        "outputId": "dddbd883-b230-4036-fac4-e0e5e341f128"
      },
      "execution_count": null,
      "outputs": [
        {
          "output_type": "stream",
          "name": "stdout",
          "text": [
            "accuracy on test set  =  0.9866412213740458 \n",
            "\n"
          ]
        },
        {
          "output_type": "display_data",
          "data": {
            "image/png": "[encoded data removed]",
            "text/plain": [
              "<Figure size 432x288 with 1 Axes>"
            ]
          },
          "metadata": {
            "needs_background": "light"
          }
        }
      ]
    }
  ]
}